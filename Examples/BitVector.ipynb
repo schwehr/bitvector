{
 "metadata": {
  "name": "",
  "signature": "sha256:8a80906a8ba48ed0b34cb58d58b9166bc0af9da62cddbdda934dd71bef156177"
 },
 "nbformat": 3,
 "nbformat_minor": 0,
 "worksheets": [
  {
   "cells": [
    {
     "cell_type": "markdown",
     "metadata": {},
     "source": [
      "Based on BitVector.py from BitVector 3.3.2 by Avinash Kak (kak@purdue.edu)."
     ]
    },
    {
     "cell_type": "markdown",
     "metadata": {},
     "source": [
      "Copyright 2014 Avinash Kak. Python Software Foundation license."
     ]
    },
    {
     "cell_type": "markdown",
     "metadata": {},
     "source": [
      "Converted to an IPython Notebook by Kurt Schwehr (schwehr@google.com)"
     ]
    },
    {
     "cell_type": "markdown",
     "metadata": {},
     "source": [
      "https://pypi.python.org/pypi/BitVector/\n",
      "\n",
      "A pure-Python memory-efficient packed representation for bit arrays."
     ]
    },
    {
     "cell_type": "code",
     "collapsed": false,
     "input": [
      "import base64\n",
      "import binascii\n",
      "import io\n",
      "import sys"
     ],
     "language": "python",
     "metadata": {},
     "outputs": [],
     "prompt_number": 1
    },
    {
     "cell_type": "code",
     "collapsed": false,
     "input": [
      "from BitVector import BitVector"
     ],
     "language": "python",
     "metadata": {},
     "outputs": [],
     "prompt_number": 2
    },
    {
     "cell_type": "code",
     "collapsed": false,
     "input": [
      "print BitVector(size = 0)  # No output"
     ],
     "language": "python",
     "metadata": {},
     "outputs": [
      {
       "output_type": "stream",
       "stream": "stdout",
       "text": [
        "\n"
       ]
      }
     ],
     "prompt_number": 3
    },
    {
     "cell_type": "code",
     "collapsed": false,
     "input": [
      "print BitVector(size = 2)"
     ],
     "language": "python",
     "metadata": {},
     "outputs": [
      {
       "output_type": "stream",
       "stream": "stdout",
       "text": [
        "00\n"
       ]
      }
     ],
     "prompt_number": 4
    },
    {
     "cell_type": "code",
     "collapsed": false,
     "input": [
      "print BitVector(size = 0) + BitVector(size = 2)"
     ],
     "language": "python",
     "metadata": {},
     "outputs": [
      {
       "output_type": "stream",
       "stream": "stdout",
       "text": [
        "00\n"
       ]
      }
     ],
     "prompt_number": 5
    },
    {
     "cell_type": "code",
     "collapsed": false,
     "input": [
      "print BitVector(bitlist=(1, 0, 0, 1))"
     ],
     "language": "python",
     "metadata": {},
     "outputs": [
      {
       "output_type": "stream",
       "stream": "stdout",
       "text": [
        "1001\n"
       ]
      }
     ],
     "prompt_number": 6
    },
    {
     "cell_type": "code",
     "collapsed": false,
     "input": [
      "print BitVector(bitlist=[1, 1, 0, 1])"
     ],
     "language": "python",
     "metadata": {},
     "outputs": [
      {
       "output_type": "stream",
       "stream": "stdout",
       "text": [
        "1101\n"
       ]
      }
     ],
     "prompt_number": 7
    },
    {
     "cell_type": "code",
     "collapsed": false,
     "input": [
      "print BitVector(intVal=5678)\n",
      "print BitVector(intVal=0)\n",
      "print BitVector(intVal=1)\n",
      "print BitVector(intVal=2)\n",
      "print BitVector(intVal=123456)\n",
      "print BitVector(intVal=123456).int_val()\n",
      "int(BitVector(intVal=123456))"
     ],
     "language": "python",
     "metadata": {},
     "outputs": [
      {
       "output_type": "stream",
       "stream": "stdout",
       "text": [
        "1011000101110\n",
        "0\n",
        "1\n",
        "10\n",
        "11110001001000000\n",
        "123456\n"
       ]
      },
      {
       "metadata": {},
       "output_type": "pyout",
       "prompt_number": 8,
       "text": [
        "123456"
       ]
      }
     ],
     "prompt_number": 8
    },
    {
     "cell_type": "markdown",
     "metadata": {},
     "source": [
      "Construct a bit vector from a very large integer."
     ]
    },
    {
     "cell_type": "code",
     "collapsed": false,
     "input": [
      "x = 12345678901234567890123456789012345678901234567890123456789012345678901234567890\n",
      "bv = BitVector(intVal=x)\n",
      "print bv\n",
      "int(bv)"
     ],
     "language": "python",
     "metadata": {},
     "outputs": [
      {
       "output_type": "stream",
       "stream": "stdout",
       "text": [
        "11010101001111010001110101000100011110010110110001111000010001010001111001100011010110110010010011010001011010000001001011111110001010101101101011010101010000100011101110010110010100111110001010010111010110011001111111100011001011011001110001111110000101011010010\n"
       ]
      },
      {
       "metadata": {},
       "output_type": "pyout",
       "prompt_number": 9,
       "text": [
        "12345678901234567890123456789012345678901234567890123456789012345678901234567890L"
       ]
      }
     ],
     "prompt_number": 9
    },
    {
     "cell_type": "code",
     "collapsed": false,
     "input": [
      "x = '111100001111'\n",
      "if sys.version_info[0] == 2:\n",
      "    x = unicode(x)\n",
      "fp_read = io.StringIO(x)\n",
      "print BitVector(fp = fp_read)"
     ],
     "language": "python",
     "metadata": {},
     "outputs": [
      {
       "output_type": "stream",
       "stream": "stdout",
       "text": [
        "111100001111\n"
       ]
      }
     ],
     "prompt_number": 10
    },
    {
     "cell_type": "code",
     "collapsed": false,
     "input": [
      "print BitVector(bitstring = '00110011')"
     ],
     "language": "python",
     "metadata": {},
     "outputs": [
      {
       "output_type": "stream",
       "stream": "stdout",
       "text": [
        "00110011\n"
       ]
      }
     ],
     "prompt_number": 11
    },
    {
     "cell_type": "code",
     "collapsed": false,
     "input": [
      "print '\"%s\"' % BitVector(bitstring = '')\n",
      "BitVector(bitstring = '').int_val()"
     ],
     "language": "python",
     "metadata": {},
     "outputs": [
      {
       "output_type": "stream",
       "stream": "stdout",
       "text": [
        "\"\"\n"
       ]
      },
      {
       "metadata": {},
       "output_type": "pyout",
       "prompt_number": 12,
       "text": [
        "0"
       ]
      }
     ],
     "prompt_number": 12
    },
    {
     "cell_type": "code",
     "collapsed": false,
     "input": [
      "bv = BitVector(textstring = \"hello\")\n",
      "print bv\n",
      "print bv.get_text_from_bitvector()\n",
      "   \n",
      "bv = BitVector(textstring = \"hello\\njello\")\n",
      "print bv\n",
      "print bv.get_text_from_bitvector()"
     ],
     "language": "python",
     "metadata": {},
     "outputs": [
      {
       "output_type": "stream",
       "stream": "stdout",
       "text": [
        "0110100001100101011011000110110001101111\n",
        "hello\n",
        "0110100001100101011011000110110001101111000010100110101001100101011011000110110001101111\n",
        "hello\n",
        "jello\n"
       ]
      }
     ],
     "prompt_number": 13
    },
    {
     "cell_type": "code",
     "collapsed": false,
     "input": [
      "bv = BitVector(hexstring = \"68656c6c6f\")\n",
      "print bv\n",
      "bv.get_hex_string_from_bitvector()"
     ],
     "language": "python",
     "metadata": {},
     "outputs": [
      {
       "output_type": "stream",
       "stream": "stdout",
       "text": [
        "0110100001100101011011000110110001101111\n"
       ]
      },
      {
       "metadata": {},
       "output_type": "pyout",
       "prompt_number": 14,
       "text": [
        "'68656c6c6f'"
       ]
      }
     ],
     "prompt_number": 14
    },
    {
     "cell_type": "code",
     "collapsed": false,
     "input": [
      "mypubkey = 'ssh-rsa AAAAB3NzaC1yc2EAAAABIwAAAQEA5amriY96HQS8Y/nKc8zu3zOylvpOn3vzMmWwrtyDy+aBvns4UC1RXoaD9rDKqNNMCBAQwWDsYwCAFsrBzbxRQONHePX8lRWgM87MseWGlu6WPzWGiJMclTAO9CTknplG9wlNzLQBj3dP1M895iLF6jvJ7GR+V3CRU6UUbMmRvgPcsfv6ec9RRPm/B8ftUuQICL0jt4tKdPG45PBJUylHs71FuE9FJNp01hrj1EMFObNTcsy9zuis0YPyzArTYSOUsGglleExAQYi7iLh17pAa+y6fZrGLsptgqryuftN9Q4NqPuTiFjlqRowCDU7sSxKDgU7bzhshyVx3+pzXO4D2Q== kak@pixie'\n",
      "if sys.version_info[0] == 3:\n",
      "    keydata = base64.b64decode(bytes(mypubkey.split(None)[1], 'utf-8'))\n",
      "else:\n",
      "    keydata = base64.b64decode(mypubkey.split(None)[1])\n",
      "print BitVector(rawbytes=keydata)"
     ],
     "language": "python",
     "metadata": {},
     "outputs": [
      {
       "output_type": "stream",
       "stream": "stdout",
       "text": [
        "00000000000000000000000000000111011100110111001101101000001011010111001001110011011000010000000000000000000000000000000100100011000000000000000000000001000000010000000011100101101010011010101110001001100011110111101000011101000001001011110001100011111110011100101001110011110011001110111011011111001100111011001010010110111110100100111010011111011110111111001100110010011001011011000010101110110111001000001111001011111001101000000110111110011110110011100001010000001011010101000101011110100001101000001111110110101100001100101010101000110100110100110000001000000100000001000011000001011000001110110001100011000000001000000000010110110010101100000111001101101111000101000101000000111000110100011101111000111101011111110010010101000101011010000000110011110011101100110010110001111001011000011010010110111011101001011000111111001101011000011010001000100100110001110010010101001100000000111011110100001001001110010010011110100110010100011011110111000010010100110111001100101101000000000110001111011101110100111111010100110011110011110111100110001000101100010111101010001110111100100111101100011001000111111001010111011100001001000101010011101001010001010001101100110010011001000110111110000000111101110010110001111110111111101001111001110011110101000101000100111110011011111100000111110001111110110101010010111001000000100000001000101111010010001110110111100010110100101001110100111100011011100011100100111100000100100101010011001010010100011110110011101111010100010110111000010011110100010100100100110110100111010011010110000110101110001111010100010000110000010100111001101100110101001101110010110011001011110111001110111010001010110011010001100000111111001011001100000010101101001101100001001000111001010010110000011010000010010110010101111000010011000100000001000001100010001011101110001000101110000111010111101110100100000001101011111011001011101001111101100110101100011000101110110010100110110110000010101010101111001010111001111110110100110111110101000011100000110110101000111110111001001110001000010110001110010110101001000110100011000000001000001101010011101110110001001011000100101000001110000001010011101101101111001110000110110010000111001001010111000111011111111010100111001101011100111011100000001111011001\n"
       ]
      }
     ],
     "prompt_number": 15
    },
    {
     "cell_type": "markdown",
     "metadata": {},
     "source": [
      " Array-like indexing for a bit vector."
     ]
    },
    {
     "cell_type": "code",
     "collapsed": false,
     "input": [
      "bv = BitVector( bitstring = '110001' )\n",
      "print bv[0], bv[1], bv[2], bv[3], bv[4], bv[5]\n",
      "print bv[-1], bv[-2], bv[-3], bv[-4], bv[-5], bv[-6]"
     ],
     "language": "python",
     "metadata": {},
     "outputs": [
      {
       "output_type": "stream",
       "stream": "stdout",
       "text": [
        "1 1 0 0 0 1\n",
        "1 0 0 0 1 1\n"
       ]
      }
     ],
     "prompt_number": 16
    },
    {
     "cell_type": "code",
     "collapsed": false,
     "input": [
      "bv = BitVector(bitstring='1111')\n",
      "bv[0]=1; bv[1]=0; bv[2]=0; bv[3]=0\n",
      "print bv\n",
      "bv[-1]=1; bv[-2]=1; bv[-4]=0\n",
      "print bv           "
     ],
     "language": "python",
     "metadata": {},
     "outputs": [
      {
       "output_type": "stream",
       "stream": "stdout",
       "text": [
        "1000\n",
        "0011\n"
       ]
      }
     ],
     "prompt_number": 17
    },
    {
     "cell_type": "markdown",
     "metadata": {},
     "source": [
      "Equality and inequality operations."
     ]
    },
    {
     "cell_type": "code",
     "collapsed": false,
     "input": [
      "bv1 = BitVector(bitstring='00110011')\n",
      "bv2 = BitVector(bitlist=[0,0,1,1,0,0,1,1])\n",
      "print bv1 == bv2\n",
      "print bv1 != bv2\n",
      "print bv1 < bv2\n",
      "print bv1 <= bv2\n",
      "\n",
      "print\n",
      "bv3 = BitVector(intVal = 5678)\n",
      "print bv3.int_val()\n",
      "print bv3\n",
      "print bv1 == bv3\n",
      "print bv3 > bv1\n",
      "print bv3 >= bv1"
     ],
     "language": "python",
     "metadata": {},
     "outputs": [
      {
       "output_type": "stream",
       "stream": "stdout",
       "text": [
        "True\n",
        "False\n",
        "False\n",
        "True\n",
        "\n",
        "5678\n",
        "1011000101110\n",
        "False\n",
        "True\n",
        "True\n"
       ]
      }
     ],
     "prompt_number": 18
    },
    {
     "cell_type": "code",
     "collapsed": false,
     "input": [
      "fp_write = io.StringIO()\n",
      "bv.write_bits_to_fileobject(fp_write)\n",
      "print fp_write.getvalue()"
     ],
     "language": "python",
     "metadata": {},
     "outputs": [
      {
       "output_type": "stream",
       "stream": "stdout",
       "text": [
        "0011\n"
       ]
      }
     ],
     "prompt_number": 19
    },
    {
     "cell_type": "code",
     "collapsed": false,
     "input": [
      "print bv1\n",
      "print bv2\n",
      "print\n",
      "\n",
      "bv3 = bv1 | bv2\n",
      "print bv3\n",
      "bv3 = bv1 & bv2\n",
      "print bv3\n",
      "bv3 = bv1 + bv2\n",
      "print bv3\n",
      "bv4 = BitVector(size = 3)\n",
      "print bv4\n",
      "bv5 = bv3 + bv4\n",
      "print bv5\n",
      "bv6 = ~bv5\n",
      "print bv6\n",
      "bv7 = bv5 & bv6\n",
      "print bv7\n",
      "bv7 = bv5 | bv6\n",
      "print bv7"
     ],
     "language": "python",
     "metadata": {},
     "outputs": [
      {
       "output_type": "stream",
       "stream": "stdout",
       "text": [
        "00110011\n",
        "00110011\n",
        "\n",
        "00110011\n",
        "00110011\n",
        "0011001100110011\n",
        "000\n",
        "0011001100110011000\n",
        "1100110011001100111\n",
        "0000000000000000000\n",
        "1111111111111111111\n"
       ]
      }
     ],
     "prompt_number": 20
    },
    {
     "cell_type": "code",
     "collapsed": false,
     "input": [
      "print BitVector(intVal = 6) ^ BitVector( intVal = 13)\n",
      "print BitVector(intVal = 6) & BitVector( intVal = 13)\n",
      "print BitVector(intVal = 6) | BitVector( intVal = 13)\n",
      "\n",
      "print BitVector(intVal = 1) ^ BitVector( intVal = 13)\n",
      "print BitVector(intVal = 1) & BitVector( intVal = 13)\n",
      "print BitVector(intVal = 1) | BitVector( intVal = 13)"
     ],
     "language": "python",
     "metadata": {},
     "outputs": [
      {
       "output_type": "stream",
       "stream": "stdout",
       "text": [
        "1011\n",
        "0100\n",
        "1111\n",
        "1100\n",
        "0001\n",
        "1101\n"
       ]
      }
     ],
     "prompt_number": 21
    },
    {
     "cell_type": "code",
     "collapsed": false,
     "input": [
      "bv7[7] = 0\n",
      "print bv7\n",
      "print len(bv7)\n",
      "bv8 = (bv5 & bv6) ^ bv7\n",
      "print bv8"
     ],
     "language": "python",
     "metadata": {},
     "outputs": [
      {
       "output_type": "stream",
       "stream": "stdout",
       "text": [
        "1111111011111111111\n",
        "19\n",
        "1111111011111111111\n"
       ]
      }
     ],
     "prompt_number": 22
    },
    {
     "cell_type": "code",
     "collapsed": false,
     "input": [],
     "language": "python",
     "metadata": {},
     "outputs": [],
     "prompt_number": 22
    }
   ],
   "metadata": {}
  }
 ]
}